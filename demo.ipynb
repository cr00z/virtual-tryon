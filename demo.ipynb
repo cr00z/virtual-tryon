{
 "cells": [
  {
   "cell_type": "markdown",
   "metadata": {
    "id": "y8p8kJgYlH-1"
   },
   "source": [
    "# Installation\n",
    "\n",
    "1. Clone repository"
   ]
  },
  {
   "cell_type": "code",
   "execution_count": null,
   "metadata": {
    "colab": {
     "base_uri": "https://localhost:8080/"
    },
    "id": "TyruDsENlLPR",
    "outputId": "ffaa29ef-d75b-412b-9360-b605597c65f5"
   },
   "outputs": [],
   "source": [
    "!git clone https://github.com/cr00z/virtual-tryon\n",
    "!cp -r virtual-tryon/* ."
   ]
  },
  {
   "cell_type": "markdown",
   "metadata": {
    "id": "IrYTaN9alj4V"
   },
   "source": [
    "2. Install detectron2 (for bbox detection)"
   ]
  },
  {
   "cell_type": "code",
   "execution_count": null,
   "metadata": {
    "colab": {
     "base_uri": "https://localhost:8080/",
     "height": 1000
    },
    "id": "6hjTTSvtlaIn",
    "outputId": "d1899538-cb0f-4602-a8f3-8de7d169a6ce"
   },
   "outputs": [],
   "source": [
    "!pip install 'git+https://github.com/facebookresearch/detectron2.git'"
   ]
  },
  {
   "cell_type": "markdown",
   "metadata": {
    "id": "ntQN1MgcloZm"
   },
   "source": [
    "3. Install opendr"
   ]
  },
  {
   "cell_type": "code",
   "execution_count": null,
   "metadata": {
    "colab": {
     "base_uri": "https://localhost:8080/"
    },
    "id": "BrOE05mmlpA8",
    "outputId": "29f01ccc-ddd3-422b-fba5-00563131af0a"
   },
   "outputs": [],
   "source": [
    "!sudo apt-get --yes install libglu1-mesa-dev freeglut3-dev mesa-common-dev\n",
    "!sudo apt-get --yes install libosmesa6-dev\n",
    "!pip install opendr"
   ]
  },
  {
   "cell_type": "markdown",
   "metadata": {
    "id": "yEs4C1E6lpJ7"
   },
   "source": [
    "4. Install pytorch3d (for rendering)\n",
    "\n",
    "Achtung! May take up to 10 minutes, please wait! "
   ]
  },
  {
   "cell_type": "code",
   "execution_count": null,
   "metadata": {
    "colab": {
     "base_uri": "https://localhost:8080/"
    },
    "id": "jIh4kEphlpRf",
    "outputId": "7918e686-c114-4481-a9e9-6c7c9bac2763"
   },
   "outputs": [],
   "source": [
    "%%time\n",
    "pip -v install \"git+https://github.com/facebookresearch/pytorch3d.git\""
   ]
  },
  {
   "cell_type": "markdown",
   "metadata": {
    "id": "BRf6qvFAlpY2"
   },
   "source": [
    "5. Install Mesh"
   ]
  },
  {
   "cell_type": "code",
   "execution_count": null,
   "metadata": {
    "colab": {
     "base_uri": "https://localhost:8080/"
    },
    "id": "n83kMUNrlpgQ",
    "outputId": "e41648de-ae47-451d-d961-67065465bdd4"
   },
   "outputs": [],
   "source": [
    "!sudo apt-get --yes install libboost-dev\n",
    "!pip install 'git+https://github.com/MPI-IS/mesh.git'"
   ]
  },
  {
   "cell_type": "markdown",
   "metadata": {
    "id": "zLWQtwo1lpnP"
   },
   "source": [
    "6. Download extra data"
   ]
  },
  {
   "cell_type": "code",
   "execution_count": null,
   "metadata": {
    "id": "YELO8CXElpt-"
   },
   "outputs": [],
   "source": [
    "!echo \"Download the neutral SMPL model\"\n",
    "!wget https://github.com/classner/up/raw/master/models/3D/basicModel_neutral_lbs_10_207_0_v1.0.0.pkl -P assets\n",
    "\n",
    "!echo \"Downloading extra data from SPIN\"\n",
    "!wget http://visiondata.cis.upenn.edu/spin/data.tar.gz && tar -xvf data.tar.gz && rm data.tar.gz && mv data/smpl_mean_params.npz assets && rm -rf data\n",
    "\n",
    "!echo \"Downloading pretrained model\"\n",
    "!wget https://dl.fbaipublicfiles.com/eft/2020_05_31-00_50_43-best-51.749683916568756.pt -P assets\n",
    "\n",
    "!echo \"Download garment fts from MultiGarmentNetwork\"\n",
    "!wget https://github.com/bharat-b7/MultiGarmentNetwork/raw/master/assets/garment_fts.pkl -P assets"
   ]
  },
  {
   "cell_type": "markdown",
   "metadata": {
    "id": "kR1WSccvlp0p"
   },
   "source": [
    "7. Download Multi-Garment dataset"
   ]
  },
  {
   "cell_type": "code",
   "execution_count": null,
   "metadata": {
    "id": "ka857PmZlp6_"
   },
   "outputs": [],
   "source": [
    "!wget https://datasets.d2.mpi-inf.mpg.de/MultiGarmentNetwork/Multi-Garmentdataset.zip\n",
    "!unzip Multi-Garmentdataset.zip"
   ]
  },
  {
   "cell_type": "markdown",
   "metadata": {
    "id": "SCYQs_0MlqBt"
   },
   "source": [
    "# Запуск\n",
    "В файле main.py отредактировать путь к входному видеофайлу, я использовал демо из frankmocap:\n",
    "```\n",
    "input_path = './sample_data/single_totalbody.mp4'\n",
    "```\n",
    "\n",
    "Запуск"
   ]
  },
  {
   "cell_type": "code",
   "execution_count": null,
   "metadata": {
    "id": "_PnlLLE2lqG6"
   },
   "outputs": [],
   "source": [
    "!python main.py"
   ]
  },
  {
   "cell_type": "markdown",
   "metadata": {
    "id": "eZMt_cEHlqNV"
   },
   "source": [
    "Результат: **output/out.mp4**"
   ]
  },
  {
   "cell_type": "code",
   "execution_count": null,
   "metadata": {},
   "outputs": [],
   "source": [
    "from IPython.display import FileLink\n",
    "FileLink(r'output/out.mp4')"
   ]
  }
 ],
 "metadata": {
  "accelerator": "GPU",
  "colab": {
   "name": "demo.ipynb",
   "provenance": []
  },
  "kernelspec": {
   "display_name": "Python 3 (ipykernel)",
   "language": "python",
   "name": "python3"
  },
  "language_info": {
   "codemirror_mode": {
    "name": "ipython",
    "version": 3
   },
   "file_extension": ".py",
   "mimetype": "text/x-python",
   "name": "python",
   "nbconvert_exporter": "python",
   "pygments_lexer": "ipython3",
   "version": "3.7.11"
  },
  "varInspector": {
   "cols": {
    "lenName": 16,
    "lenType": 16,
    "lenVar": 40
   },
   "kernels_config": {
    "python": {
     "delete_cmd_postfix": "",
     "delete_cmd_prefix": "del ",
     "library": "var_list.py",
     "varRefreshCmd": "print(var_dic_list())"
    },
    "r": {
     "delete_cmd_postfix": ") ",
     "delete_cmd_prefix": "rm(",
     "library": "var_list.r",
     "varRefreshCmd": "cat(var_dic_list()) "
    }
   },
   "types_to_exclude": [
    "module",
    "function",
    "builtin_function_or_method",
    "instance",
    "_Feature"
   ],
   "window_display": false
  }
 },
 "nbformat": 4,
 "nbformat_minor": 1
}
